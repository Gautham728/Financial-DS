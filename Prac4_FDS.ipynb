{
 "cells": [
  {
   "cell_type": "code",
   "execution_count": 1,
   "id": "147f4075",
   "metadata": {},
   "outputs": [
    {
     "name": "stdout",
     "output_type": "stream",
     "text": [
      "probability of getting 3 when a die is rolled is: 0.16666666666666666\n"
     ]
    }
   ],
   "source": [
    "#probability of getting 3 when a die is rolled\n",
    "ns=6#n(S) = {1,2,3,4,5,6}\n",
    "na=1#n(A)={3}\n",
    "pa=na/ns#P(A)\n",
    "print(\"probability of getting 3 when a die is rolled is:\",pa)"
   ]
  },
  {
   "cell_type": "code",
   "execution_count": 2,
   "id": "017c81f0",
   "metadata": {},
   "outputs": [
    {
     "name": "stdout",
     "output_type": "stream",
     "text": [
      "The probability of getting atleast one head when a coin is tossed thrice is: 0.875\n"
     ]
    }
   ],
   "source": [
    "#probability of getting atkleast one head when a coin is tossed thrice.\n",
    "ns=8 #n(s)={HHH,HHT,HTT,TTT,HTH,THH,THT,TTH}\n",
    "na=7#n(a)={HHT,HTT,TTT,HTH,THH,THT,TTH}\n",
    "pa=na/ns\n",
    "print(\"The probability of getting atleast one head when a coin is tossed thrice is:\",pa)"
   ]
  },
  {
   "cell_type": "code",
   "execution_count": 3,
   "id": "0ccb5321",
   "metadata": {},
   "outputs": [
    {
     "name": "stdout",
     "output_type": "stream",
     "text": [
      "Probability getting blue is: 0.7\n"
     ]
    }
   ],
   "source": [
    "#A glass jar contains 5 red and 3 blues and 2 green jelly beans.\n",
    "#If a jelly bean is choosen at random from jar\n",
    "#What is the probability that it is not blue?\n",
    "ns=10#n(S)={R,R,R,R,B,B,B,G,G}\n",
    "na=7\n",
    "pa=na/ns\n",
    "print(\"Probability getting blue is:\",pa)"
   ]
  },
  {
   "cell_type": "code",
   "execution_count": 4,
   "id": "6e76b4f3",
   "metadata": {},
   "outputs": [
    {
     "name": "stdout",
     "output_type": "stream",
     "text": [
      "Probability that they both will be alive in 20 years :  0.35\n"
     ]
    }
   ],
   "source": [
    "#If the probability that A person A will be alive in 20 yaers\n",
    "#is 0.7 and the probability that B person will be alive in 20 years is 0.5\n",
    "#what is the probability that they will both be alive in 20 yaers?\n",
    "p=0.7*0.5\n",
    "print(\"Probability that they both will be alive in 20 years : \",p)"
   ]
  },
  {
   "cell_type": "code",
   "execution_count": 5,
   "id": "cc85ad0f",
   "metadata": {},
   "outputs": [],
   "source": [
    "def event_probability(n,s):\n",
    "    return n/s"
   ]
  },
  {
   "cell_type": "code",
   "execution_count": 6,
   "id": "13a9b757",
   "metadata": {},
   "outputs": [
    {
     "name": "stdout",
     "output_type": "stream",
     "text": [
      "Probability of getting  4 or 5 in the first toss and 1,2 or 3 on the second toss is: 0.16666666666666666\n"
     ]
    }
   ],
   "source": [
    "# A fair die is tossed twic . find the probability of getting a 4 or 5 on the first toss and\n",
    "#a 1,2 or 3 in the second\n",
    "pa = event_probability(2,6)\n",
    "pb=event_probability(3,6)\n",
    "p=pa*pb\n",
    "print(\"Probability of getting  4 or 5 in the first toss and 1,2 or 3 on the second toss is:\",p) "
   ]
  },
  {
   "cell_type": "code",
   "execution_count": 7,
   "id": "7d63638a",
   "metadata": {},
   "outputs": [
    {
     "name": "stdout",
     "output_type": "stream",
     "text": [
      "Probability of getting white,black,green in order :  0.041666666666666664\n"
     ]
    }
   ],
   "source": [
    "# A bag contains 5 white marbles, 3 black marbles and 2 green marbles.\n",
    "# In each draw, a marble is drawn from the bag and not replaced .\n",
    "# In three draws, find probability of obtaining white , black and green in order.\n",
    "pa = event_probability(5,10)\n",
    "pb = event_probability(3,9)\n",
    "pc = event_probability(2,8)\n",
    "p = pa*pb*pc\n",
    "print(\"Probability of getting white,black,green in order : \",p)"
   ]
  },
  {
   "cell_type": "code",
   "execution_count": 8,
   "id": "74aa4ba7",
   "metadata": {},
   "outputs": [
    {
     "name": "stdout",
     "output_type": "stream",
     "text": [
      "0.5\n"
     ]
    }
   ],
   "source": [
    "#Sample space\n",
    "cards=52\n",
    "#Calculate the probability of drawing a heart of club\n",
    "hearts=13\n",
    "clubs=13\n",
    "heart_or_club=event_probability(hearts,cards)+event_probability(clubs,cards)\n",
    "print(heart_or_club)"
   ]
  },
  {
   "cell_type": "code",
   "execution_count": 9,
   "id": "964f41ef",
   "metadata": {},
   "outputs": [
    {
     "name": "stdout",
     "output_type": "stream",
     "text": [
      "Probability of drawing a ace,queen or king: 0.23076923076923078\n"
     ]
    }
   ],
   "source": [
    "#Calculate the probability of drawing on ace,queen or king\n",
    "cards=52 #sample space\n",
    "ace=4 \n",
    "queen=4 \n",
    "king=4 \n",
    "ace_queen_or_king = event_probability(ace,cards)+event_probability(queen,cards)+event_probability(king,cards)\n",
    "print(\"Probability of drawing a ace,queen or king:\",ace_queen_or_king)"
   ]
  },
  {
   "cell_type": "code",
   "execution_count": 10,
   "id": "da6e09a7",
   "metadata": {},
   "outputs": [
    {
     "name": "stdout",
     "output_type": "stream",
     "text": [
      "Probability of getting a heart or an ace: 0.31\n"
     ]
    }
   ],
   "source": [
    "#Calculate the probability of drawing a heart or an ace\n",
    "cards=52 #sample space\n",
    "hearts=13\n",
    "ace=4 \n",
    "ace_of_hearts=1\n",
    "hearts_or_aces=event_probability(hearts,cards)+event_probability(ace,cards)-event_probability(ace_of_hearts,cards)\n",
    "print(\"Probability of getting a heart or an ace:\",round(hearts_or_aces,2))"
   ]
  },
  {
   "cell_type": "code",
   "execution_count": 11,
   "id": "003afea8",
   "metadata": {},
   "outputs": [
    {
     "name": "stdout",
     "output_type": "stream",
     "text": [
      "Probability of drawing  red cards or face cards : 0.62\n"
     ]
    }
   ],
   "source": [
    "#Calculate the probability of drawing  red cards or face cards\n",
    "cards=52\n",
    "red=26\n",
    "face_cards=12\n",
    "red_face_cards=6\n",
    "red_cards_or_face_cards=event_probability(red,cards)+event_probability(face_cards,cards)-event_probability(red_face_cards,cards)\n",
    "print(\"Probability of drawing  red cards or face cards :\",round(red_cards_or_face_cards,2))"
   ]
  },
  {
   "cell_type": "code",
   "execution_count": 12,
   "id": "e4ad4389",
   "metadata": {},
   "outputs": [
    {
     "name": "stdout",
     "output_type": "stream",
     "text": [
      "Probabaility of not getting a fair die is rolled is: 0.83\n"
     ]
    }
   ],
   "source": [
    "#Probabaility of not getting a fair die is rolled\n",
    "ns=6\n",
    "na=1\n",
    "pa=na/ns\n",
    "print(\"Probabaility of not getting a fair die is rolled is:\",round(1-pa,2))"
   ]
  },
  {
   "cell_type": "code",
   "execution_count": 13,
   "id": "1212c434",
   "metadata": {},
   "outputs": [
    {
     "name": "stdout",
     "output_type": "stream",
     "text": [
      "Probabilty of winning is: 0.0784\n"
     ]
    }
   ],
   "source": [
    "#Suppose you draw 2 cards from deck.\n",
    "#YOU win if you get ace given that you draw a jack in frist draw.\n",
    "cards=52\n",
    "jacks=4 \n",
    "aces=4 \n",
    "pj=event_probability(jacks,52)\n",
    "pa=event_probability(aces,51)\n",
    "pa_given_jack=(pj*pa)/pj\n",
    "print(\"Probabilty of winning is:\",round(pa_given_jack,4))"
   ]
  },
  {
   "cell_type": "code",
   "execution_count": 14,
   "id": "80f53855",
   "metadata": {},
   "outputs": [
    {
     "data": {
      "text/html": [
       "<div>\n",
       "<style scoped>\n",
       "    .dataframe tbody tr th:only-of-type {\n",
       "        vertical-align: middle;\n",
       "    }\n",
       "\n",
       "    .dataframe tbody tr th {\n",
       "        vertical-align: top;\n",
       "    }\n",
       "\n",
       "    .dataframe thead th {\n",
       "        text-align: right;\n",
       "    }\n",
       "</style>\n",
       "<table border=\"1\" class=\"dataframe\">\n",
       "  <thead>\n",
       "    <tr style=\"text-align: right;\">\n",
       "      <th></th>\n",
       "      <th>school</th>\n",
       "      <th>sex</th>\n",
       "      <th>age</th>\n",
       "      <th>address</th>\n",
       "      <th>famsize</th>\n",
       "      <th>Pstatus</th>\n",
       "      <th>Medu</th>\n",
       "      <th>Fedu</th>\n",
       "      <th>Mjob</th>\n",
       "      <th>Fjob</th>\n",
       "      <th>...</th>\n",
       "      <th>famrel</th>\n",
       "      <th>freetime</th>\n",
       "      <th>goout</th>\n",
       "      <th>Dalc</th>\n",
       "      <th>Walc</th>\n",
       "      <th>health</th>\n",
       "      <th>absences</th>\n",
       "      <th>G1</th>\n",
       "      <th>G2</th>\n",
       "      <th>G3</th>\n",
       "    </tr>\n",
       "  </thead>\n",
       "  <tbody>\n",
       "    <tr>\n",
       "      <th>0</th>\n",
       "      <td>GP</td>\n",
       "      <td>F</td>\n",
       "      <td>18</td>\n",
       "      <td>U</td>\n",
       "      <td>GT3</td>\n",
       "      <td>A</td>\n",
       "      <td>4</td>\n",
       "      <td>4</td>\n",
       "      <td>at_home</td>\n",
       "      <td>teacher</td>\n",
       "      <td>...</td>\n",
       "      <td>4</td>\n",
       "      <td>3</td>\n",
       "      <td>4</td>\n",
       "      <td>1</td>\n",
       "      <td>1</td>\n",
       "      <td>3</td>\n",
       "      <td>6</td>\n",
       "      <td>5</td>\n",
       "      <td>6</td>\n",
       "      <td>6</td>\n",
       "    </tr>\n",
       "    <tr>\n",
       "      <th>1</th>\n",
       "      <td>GP</td>\n",
       "      <td>F</td>\n",
       "      <td>17</td>\n",
       "      <td>U</td>\n",
       "      <td>GT3</td>\n",
       "      <td>T</td>\n",
       "      <td>1</td>\n",
       "      <td>1</td>\n",
       "      <td>at_home</td>\n",
       "      <td>other</td>\n",
       "      <td>...</td>\n",
       "      <td>5</td>\n",
       "      <td>3</td>\n",
       "      <td>3</td>\n",
       "      <td>1</td>\n",
       "      <td>1</td>\n",
       "      <td>3</td>\n",
       "      <td>4</td>\n",
       "      <td>5</td>\n",
       "      <td>5</td>\n",
       "      <td>6</td>\n",
       "    </tr>\n",
       "    <tr>\n",
       "      <th>2</th>\n",
       "      <td>GP</td>\n",
       "      <td>F</td>\n",
       "      <td>15</td>\n",
       "      <td>U</td>\n",
       "      <td>LE3</td>\n",
       "      <td>T</td>\n",
       "      <td>1</td>\n",
       "      <td>1</td>\n",
       "      <td>at_home</td>\n",
       "      <td>other</td>\n",
       "      <td>...</td>\n",
       "      <td>4</td>\n",
       "      <td>3</td>\n",
       "      <td>2</td>\n",
       "      <td>2</td>\n",
       "      <td>3</td>\n",
       "      <td>3</td>\n",
       "      <td>10</td>\n",
       "      <td>7</td>\n",
       "      <td>8</td>\n",
       "      <td>10</td>\n",
       "    </tr>\n",
       "  </tbody>\n",
       "</table>\n",
       "<p>3 rows × 33 columns</p>\n",
       "</div>"
      ],
      "text/plain": [
       "  school sex  age address famsize Pstatus  Medu  Fedu     Mjob     Fjob  ...  \\\n",
       "0     GP   F   18       U     GT3       A     4     4  at_home  teacher  ...   \n",
       "1     GP   F   17       U     GT3       T     1     1  at_home    other  ...   \n",
       "2     GP   F   15       U     LE3       T     1     1  at_home    other  ...   \n",
       "\n",
       "  famrel freetime  goout  Dalc  Walc health absences G1 G2  G3  \n",
       "0      4        3      4     1     1      3        6  5  6   6  \n",
       "1      5        3      3     1     1      3        4  5  5   6  \n",
       "2      4        3      2     2     3      3       10  7  8  10  \n",
       "\n",
       "[3 rows x 33 columns]"
      ]
     },
     "execution_count": 14,
     "metadata": {},
     "output_type": "execute_result"
    }
   ],
   "source": [
    "import pandas as pd \n",
    "import numpy as np\n",
    "df =pd.read_csv(\"Desktop/Gautham/student-mat.csv\")\n",
    "df.head(3)\n"
   ]
  },
  {
   "cell_type": "code",
   "execution_count": 15,
   "id": "006ae115",
   "metadata": {},
   "outputs": [
    {
     "data": {
      "text/plain": [
       "395"
      ]
     },
     "execution_count": 15,
     "metadata": {},
     "output_type": "execute_result"
    }
   ],
   "source": [
    "len(df)"
   ]
  },
  {
   "cell_type": "code",
   "execution_count": 16,
   "id": "71d4b5e5",
   "metadata": {},
   "outputs": [],
   "source": [
    "df[\"grade_A\"]=np.where(df[\"G3\"]*5 >=80,1,0)"
   ]
  },
  {
   "cell_type": "code",
   "execution_count": 17,
   "id": "024e8c6a",
   "metadata": {},
   "outputs": [],
   "source": [
    "df[\"high_absenses\"]=np.where(df[\"absences\"]>=10,1,0)"
   ]
  },
  {
   "cell_type": "code",
   "execution_count": 18,
   "id": "7ffe2495",
   "metadata": {},
   "outputs": [],
   "source": [
    "df[\"count\"]=1"
   ]
  },
  {
   "cell_type": "code",
   "execution_count": 19,
   "id": "5e5ffa9c",
   "metadata": {},
   "outputs": [
    {
     "data": {
      "text/html": [
       "<div>\n",
       "<style scoped>\n",
       "    .dataframe tbody tr th:only-of-type {\n",
       "        vertical-align: middle;\n",
       "    }\n",
       "\n",
       "    .dataframe tbody tr th {\n",
       "        vertical-align: top;\n",
       "    }\n",
       "\n",
       "    .dataframe thead th {\n",
       "        text-align: right;\n",
       "    }\n",
       "</style>\n",
       "<table border=\"1\" class=\"dataframe\">\n",
       "  <thead>\n",
       "    <tr style=\"text-align: right;\">\n",
       "      <th></th>\n",
       "      <th>grade_A</th>\n",
       "      <th>high_absenses</th>\n",
       "      <th>count</th>\n",
       "    </tr>\n",
       "  </thead>\n",
       "  <tbody>\n",
       "    <tr>\n",
       "      <th>0</th>\n",
       "      <td>0</td>\n",
       "      <td>0</td>\n",
       "      <td>1</td>\n",
       "    </tr>\n",
       "    <tr>\n",
       "      <th>1</th>\n",
       "      <td>0</td>\n",
       "      <td>0</td>\n",
       "      <td>1</td>\n",
       "    </tr>\n",
       "    <tr>\n",
       "      <th>2</th>\n",
       "      <td>0</td>\n",
       "      <td>1</td>\n",
       "      <td>1</td>\n",
       "    </tr>\n",
       "    <tr>\n",
       "      <th>3</th>\n",
       "      <td>0</td>\n",
       "      <td>0</td>\n",
       "      <td>1</td>\n",
       "    </tr>\n",
       "    <tr>\n",
       "      <th>4</th>\n",
       "      <td>0</td>\n",
       "      <td>0</td>\n",
       "      <td>1</td>\n",
       "    </tr>\n",
       "  </tbody>\n",
       "</table>\n",
       "</div>"
      ],
      "text/plain": [
       "   grade_A  high_absenses  count\n",
       "0        0              0      1\n",
       "1        0              0      1\n",
       "2        0              1      1\n",
       "3        0              0      1\n",
       "4        0              0      1"
      ]
     },
     "execution_count": 19,
     "metadata": {},
     "output_type": "execute_result"
    }
   ],
   "source": [
    "df=df[[\"grade_A\",\"high_absenses\",\"count\"]]\n",
    "df.head()"
   ]
  },
  {
   "cell_type": "code",
   "execution_count": 20,
   "id": "d77ac254",
   "metadata": {},
   "outputs": [],
   "source": [
    "final=pd.pivot_table(\n",
    "df,\n",
    "values=\"count\",\n",
    "index=[\"grade_A\"],\n",
    "columns=[\"high_absenses\"],\n",
    "aggfunc=np.size,\n",
    "fill_value=0 )"
   ]
  },
  {
   "cell_type": "code",
   "execution_count": 21,
   "id": "0b7cf26d",
   "metadata": {},
   "outputs": [
    {
     "name": "stdout",
     "output_type": "stream",
     "text": [
      "high_absenses    0   1\n",
      "grade_A               \n",
      "0              277  78\n",
      "1               35   5\n"
     ]
    }
   ],
   "source": [
    "print(final)"
   ]
  },
  {
   "cell_type": "code",
   "execution_count": 27,
   "id": "ca4e180a",
   "metadata": {},
   "outputs": [
    {
     "data": {
      "text/plain": [
       "0.10126582278481013"
      ]
     },
     "execution_count": 27,
     "metadata": {},
     "output_type": "execute_result"
    }
   ],
   "source": [
    "pa=(final.iloc[1,0]+final.iloc[1,1])/(final.iloc[0,0]+final.iloc[0,1]+final.iloc[1,0]+final.iloc[1,1])\n",
    "pa"
   ]
  },
  {
   "cell_type": "code",
   "execution_count": 29,
   "id": "9e7f0b55",
   "metadata": {},
   "outputs": [
    {
     "data": {
      "text/plain": [
       "0.21012658227848102"
      ]
     },
     "execution_count": 29,
     "metadata": {},
     "output_type": "execute_result"
    }
   ],
   "source": [
    "pb=(final.iloc[0,1]+final.iloc[1,1])/(final.iloc[0,0]+final.iloc[0,1]+final.iloc[1,0]+final.iloc[1,1])\n",
    "\n",
    "pb"
   ]
  },
  {
   "cell_type": "code",
   "execution_count": 31,
   "id": "d074472c",
   "metadata": {},
   "outputs": [
    {
     "data": {
      "text/plain": [
       "0.012658227848101266"
      ]
     },
     "execution_count": 31,
     "metadata": {},
     "output_type": "execute_result"
    }
   ],
   "source": [
    "pa_or_pb=(final.iloc[1,1])/(final.iloc[0,0]+final.iloc[0,1]+final.iloc[1,0]+final.iloc[1,1])\n",
    "pa_or_pb"
   ]
  },
  {
   "cell_type": "code",
   "execution_count": 32,
   "id": "cc266be9",
   "metadata": {},
   "outputs": [
    {
     "data": {
      "text/plain": [
       "0.060240963855421686"
      ]
     },
     "execution_count": 32,
     "metadata": {},
     "output_type": "execute_result"
    }
   ],
   "source": [
    "A_given_B=pa_or_pb/pb\n",
    "A_given_B"
   ]
  },
  {
   "cell_type": "code",
   "execution_count": 37,
   "id": "aa12730b",
   "metadata": {},
   "outputs": [
    {
     "name": "stdout",
     "output_type": "stream",
     "text": [
      "The probability of student getting at least an A(80%+)final grade,given missing 10 or more class is: 0.06\n"
     ]
    }
   ],
   "source": [
    "print(\"The probability of student getting at least an A(80%+)final grade,given missing 10 or more class is\n",
    "      :\",\n",
    "      round(A_given_B,2))"
   ]
  },
  {
   "cell_type": "code",
   "execution_count": null,
   "id": "6b9a0483",
   "metadata": {},
   "outputs": [],
   "source": []
  }
 ],
 "metadata": {
  "kernelspec": {
   "display_name": "Python 3 (ipykernel)",
   "language": "python",
   "name": "python3"
  },
  "language_info": {
   "codemirror_mode": {
    "name": "ipython",
    "version": 3
   },
   "file_extension": ".py",
   "mimetype": "text/x-python",
   "name": "python",
   "nbconvert_exporter": "python",
   "pygments_lexer": "ipython3",
   "version": "3.9.7"
  }
 },
 "nbformat": 4,
 "nbformat_minor": 5
}
